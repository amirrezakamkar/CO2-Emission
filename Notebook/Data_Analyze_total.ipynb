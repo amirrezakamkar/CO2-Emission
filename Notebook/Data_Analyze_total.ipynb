{
 "cells": [
  {
   "cell_type": "code",
   "execution_count": 1,
   "id": "65782192-4202-45d7-b0e3-b6ff8b5afc7c",
   "metadata": {},
   "outputs": [],
   "source": [
    "import pandas as pd\n",
    "import numpy as np\n",
    "import matplotlib.pyplot as plt"
   ]
  },
  {
   "cell_type": "code",
   "execution_count": 2,
   "id": "bfa0f575-1103-46f2-8e64-7952cb67a2e0",
   "metadata": {},
   "outputs": [],
   "source": [
    "url = '/Users/amirrezakamkar/Desktop/Works_in_progress/Ironhack/final_project/Data/clean/fossil_CO2_totals_by_country_clean.csv'\n",
    "df = pd.read_csv(url)"
   ]
  },
  {
   "cell_type": "code",
   "execution_count": 3,
   "id": "9d393868-6a9d-41b0-85d1-57a6da553654",
   "metadata": {},
   "outputs": [
    {
     "data": {
      "text/html": [
       "<div>\n",
       "<style scoped>\n",
       "    .dataframe tbody tr th:only-of-type {\n",
       "        vertical-align: middle;\n",
       "    }\n",
       "\n",
       "    .dataframe tbody tr th {\n",
       "        vertical-align: top;\n",
       "    }\n",
       "\n",
       "    .dataframe thead th {\n",
       "        text-align: right;\n",
       "    }\n",
       "</style>\n",
       "<table border=\"1\" class=\"dataframe\">\n",
       "  <thead>\n",
       "    <tr style=\"text-align: right;\">\n",
       "      <th></th>\n",
       "      <th>Substance</th>\n",
       "      <th>EDGAR Country Code</th>\n",
       "      <th>Country</th>\n",
       "      <th>1970</th>\n",
       "      <th>1971</th>\n",
       "      <th>1972</th>\n",
       "      <th>1973</th>\n",
       "      <th>1974</th>\n",
       "      <th>1975</th>\n",
       "      <th>1976</th>\n",
       "      <th>...</th>\n",
       "      <th>2012</th>\n",
       "      <th>2013</th>\n",
       "      <th>2014</th>\n",
       "      <th>2015</th>\n",
       "      <th>2016</th>\n",
       "      <th>2017</th>\n",
       "      <th>2018</th>\n",
       "      <th>2019</th>\n",
       "      <th>2020</th>\n",
       "      <th>2021</th>\n",
       "    </tr>\n",
       "  </thead>\n",
       "  <tbody>\n",
       "    <tr>\n",
       "      <th>0</th>\n",
       "      <td>CO2</td>\n",
       "      <td>ABW</td>\n",
       "      <td>Aruba</td>\n",
       "      <td>0.081876</td>\n",
       "      <td>0.081889</td>\n",
       "      <td>0.095415</td>\n",
       "      <td>0.099630</td>\n",
       "      <td>0.089089</td>\n",
       "      <td>0.105139</td>\n",
       "      <td>0.096041</td>\n",
       "      <td>...</td>\n",
       "      <td>1.618441</td>\n",
       "      <td>1.588689</td>\n",
       "      <td>1.615728</td>\n",
       "      <td>1.607879</td>\n",
       "      <td>1.578644</td>\n",
       "      <td>1.315458</td>\n",
       "      <td>1.347594</td>\n",
       "      <td>1.387156</td>\n",
       "      <td>1.144333</td>\n",
       "      <td>1.274134</td>\n",
       "    </tr>\n",
       "    <tr>\n",
       "      <th>1</th>\n",
       "      <td>CO2</td>\n",
       "      <td>AFG</td>\n",
       "      <td>Afghanistan</td>\n",
       "      <td>1.739541</td>\n",
       "      <td>1.737823</td>\n",
       "      <td>1.715749</td>\n",
       "      <td>1.742813</td>\n",
       "      <td>2.198551</td>\n",
       "      <td>2.037627</td>\n",
       "      <td>1.899895</td>\n",
       "      <td>...</td>\n",
       "      <td>10.238064</td>\n",
       "      <td>8.484183</td>\n",
       "      <td>8.016290</td>\n",
       "      <td>8.361849</td>\n",
       "      <td>7.635914</td>\n",
       "      <td>8.145255</td>\n",
       "      <td>9.106997</td>\n",
       "      <td>8.082724</td>\n",
       "      <td>8.183718</td>\n",
       "      <td>8.347669</td>\n",
       "    </tr>\n",
       "    <tr>\n",
       "      <th>2</th>\n",
       "      <td>CO2</td>\n",
       "      <td>AGO</td>\n",
       "      <td>Angola</td>\n",
       "      <td>8.952570</td>\n",
       "      <td>8.538308</td>\n",
       "      <td>10.388519</td>\n",
       "      <td>11.372301</td>\n",
       "      <td>11.833761</td>\n",
       "      <td>10.930423</td>\n",
       "      <td>7.317385</td>\n",
       "      <td>...</td>\n",
       "      <td>24.186843</td>\n",
       "      <td>27.822325</td>\n",
       "      <td>30.407844</td>\n",
       "      <td>32.594130</td>\n",
       "      <td>30.691660</td>\n",
       "      <td>26.129882</td>\n",
       "      <td>24.048619</td>\n",
       "      <td>25.325994</td>\n",
       "      <td>23.055844</td>\n",
       "      <td>24.450057</td>\n",
       "    </tr>\n",
       "    <tr>\n",
       "      <th>3</th>\n",
       "      <td>CO2</td>\n",
       "      <td>AIA</td>\n",
       "      <td>Anguilla</td>\n",
       "      <td>0.002168</td>\n",
       "      <td>0.002168</td>\n",
       "      <td>0.002264</td>\n",
       "      <td>0.002109</td>\n",
       "      <td>0.002350</td>\n",
       "      <td>0.002584</td>\n",
       "      <td>0.002434</td>\n",
       "      <td>...</td>\n",
       "      <td>0.026023</td>\n",
       "      <td>0.027941</td>\n",
       "      <td>0.027896</td>\n",
       "      <td>0.028005</td>\n",
       "      <td>0.028340</td>\n",
       "      <td>0.029062</td>\n",
       "      <td>0.028223</td>\n",
       "      <td>0.027580</td>\n",
       "      <td>0.022779</td>\n",
       "      <td>0.025409</td>\n",
       "    </tr>\n",
       "    <tr>\n",
       "      <th>4</th>\n",
       "      <td>CO2</td>\n",
       "      <td>AIR</td>\n",
       "      <td>International Aviation</td>\n",
       "      <td>169.300997</td>\n",
       "      <td>169.300997</td>\n",
       "      <td>179.147487</td>\n",
       "      <td>186.892096</td>\n",
       "      <td>179.793331</td>\n",
       "      <td>173.866020</td>\n",
       "      <td>174.273791</td>\n",
       "      <td>...</td>\n",
       "      <td>472.721119</td>\n",
       "      <td>480.909126</td>\n",
       "      <td>496.627697</td>\n",
       "      <td>524.654034</td>\n",
       "      <td>548.207777</td>\n",
       "      <td>582.230490</td>\n",
       "      <td>609.630469</td>\n",
       "      <td>617.763229</td>\n",
       "      <td>338.144083</td>\n",
       "      <td>390.166250</td>\n",
       "    </tr>\n",
       "  </tbody>\n",
       "</table>\n",
       "<p>5 rows × 55 columns</p>\n",
       "</div>"
      ],
      "text/plain": [
       "  Substance EDGAR Country Code                 Country        1970  \\\n",
       "0       CO2                ABW                   Aruba    0.081876   \n",
       "1       CO2                AFG             Afghanistan    1.739541   \n",
       "2       CO2                AGO                  Angola    8.952570   \n",
       "3       CO2                AIA                Anguilla    0.002168   \n",
       "4       CO2                AIR  International Aviation  169.300997   \n",
       "\n",
       "         1971        1972        1973        1974        1975        1976  \\\n",
       "0    0.081889    0.095415    0.099630    0.089089    0.105139    0.096041   \n",
       "1    1.737823    1.715749    1.742813    2.198551    2.037627    1.899895   \n",
       "2    8.538308   10.388519   11.372301   11.833761   10.930423    7.317385   \n",
       "3    0.002168    0.002264    0.002109    0.002350    0.002584    0.002434   \n",
       "4  169.300997  179.147487  186.892096  179.793331  173.866020  174.273791   \n",
       "\n",
       "   ...        2012        2013        2014        2015        2016  \\\n",
       "0  ...    1.618441    1.588689    1.615728    1.607879    1.578644   \n",
       "1  ...   10.238064    8.484183    8.016290    8.361849    7.635914   \n",
       "2  ...   24.186843   27.822325   30.407844   32.594130   30.691660   \n",
       "3  ...    0.026023    0.027941    0.027896    0.028005    0.028340   \n",
       "4  ...  472.721119  480.909126  496.627697  524.654034  548.207777   \n",
       "\n",
       "         2017        2018        2019        2020        2021  \n",
       "0    1.315458    1.347594    1.387156    1.144333    1.274134  \n",
       "1    8.145255    9.106997    8.082724    8.183718    8.347669  \n",
       "2   26.129882   24.048619   25.325994   23.055844   24.450057  \n",
       "3    0.029062    0.028223    0.027580    0.022779    0.025409  \n",
       "4  582.230490  609.630469  617.763229  338.144083  390.166250  \n",
       "\n",
       "[5 rows x 55 columns]"
      ]
     },
     "execution_count": 3,
     "metadata": {},
     "output_type": "execute_result"
    }
   ],
   "source": [
    "df.head()"
   ]
  },
  {
   "cell_type": "code",
   "execution_count": 7,
   "id": "77b570cd-2578-44c0-8e34-981e32261758",
   "metadata": {},
   "outputs": [],
   "source": [
    "#droping obvious unnecessary columns.\n",
    "df = df.drop(columns=['Substance', 'EDGAR Country Code'])"
   ]
  },
  {
   "cell_type": "code",
   "execution_count": 9,
   "id": "53a0036b-c2bb-431c-aefb-f3910b12e8c0",
   "metadata": {},
   "outputs": [
    {
     "data": {
      "text/plain": [
       "Country    0\n",
       "1970       0\n",
       "1971       0\n",
       "1972       0\n",
       "1973       0\n",
       "1974       0\n",
       "1975       0\n",
       "1976       0\n",
       "1977       0\n",
       "1978       0\n",
       "1979       0\n",
       "1980       0\n",
       "1981       0\n",
       "1982       0\n",
       "1983       0\n",
       "1984       0\n",
       "1985       0\n",
       "1986       0\n",
       "1987       0\n",
       "1988       0\n",
       "1989       0\n",
       "1990       0\n",
       "1991       0\n",
       "1992       0\n",
       "1993       0\n",
       "1994       0\n",
       "1995       0\n",
       "1996       0\n",
       "1997       0\n",
       "1998       0\n",
       "1999       0\n",
       "2000       0\n",
       "2001       0\n",
       "2002       0\n",
       "2003       0\n",
       "2004       0\n",
       "2005       0\n",
       "2006       0\n",
       "2007       0\n",
       "2008       0\n",
       "2009       0\n",
       "2010       0\n",
       "2011       0\n",
       "2012       0\n",
       "2013       0\n",
       "2014       0\n",
       "2015       0\n",
       "2016       0\n",
       "2017       0\n",
       "2018       0\n",
       "2019       0\n",
       "2020       0\n",
       "2021       0\n",
       "dtype: int64"
      ]
     },
     "execution_count": 9,
     "metadata": {},
     "output_type": "execute_result"
    }
   ],
   "source": [
    "df.isnull().sum()"
   ]
  },
  {
   "cell_type": "code",
   "execution_count": 11,
   "id": "731bf8b7-8b9c-468d-9292-8db501a60548",
   "metadata": {},
   "outputs": [
    {
     "data": {
      "text/plain": [
       "0"
      ]
     },
     "execution_count": 11,
     "metadata": {},
     "output_type": "execute_result"
    }
   ],
   "source": [
    "df.duplicated().sum()"
   ]
  },
  {
   "cell_type": "code",
   "execution_count": 13,
   "id": "fec0b423-b1ae-4b61-840b-19dccc05e0bc",
   "metadata": {},
   "outputs": [],
   "source": [
    "#removing the rows which shows the co2 emission in total and for EU.\n",
    "df = df[~df[\"Country\"].isin(['EU27', 'GLOBAL TOTAL'])]"
   ]
  },
  {
   "cell_type": "code",
   "execution_count": 17,
   "id": "bd57b458-cc56-44d1-90e2-df9c9c7a488f",
   "metadata": {},
   "outputs": [
    {
     "data": {
      "text/plain": [
       "array(['Aruba', 'Afghanistan', 'Angola', 'Anguilla',\n",
       "       'International Aviation', 'Albania', 'Curacao',\n",
       "       'United Arab Emirates', 'Argentina', 'Armenia',\n",
       "       'Antigua and Barbuda', 'Australia', 'Austria', 'Azerbaijan',\n",
       "       'Burundi', 'Belgium', 'Benin', 'Burkina Faso', 'Bangladesh',\n",
       "       'Bulgaria', 'Bahrain', 'Bahamas', 'Bosnia and Herzegovina',\n",
       "       'Belarus', 'Belize', 'Bermuda', 'Bolivia', 'Brazil', 'Barbados',\n",
       "       'Brunei', 'Bhutan', 'Botswana', 'Central African Republic',\n",
       "       'Canada', 'Switzerland and Liechtenstein', 'Chile', 'China',\n",
       "       'Cote dIvoire', 'Cameroon', 'Democratic Republic of the Congo',\n",
       "       'Congo', 'Cook Islands', 'Colombia', 'Comoros', 'Cabo Verde',\n",
       "       'Costa Rica', 'Cuba', 'Cayman Islands', 'Cyprus', 'Czechia',\n",
       "       'Germany', 'Djibouti', 'Dominica', 'Denmark', 'Dominican Republic',\n",
       "       'Algeria', 'Ecuador', 'Egypt', 'Eritrea', 'Western Sahara',\n",
       "       'Spain and Andorra', 'Estonia', 'Ethiopia', 'Finland', 'Fiji',\n",
       "       'Falkland Islands', 'France and Monaco', 'Faroes', 'Gabon',\n",
       "       'United Kingdom', 'Georgia', 'Ghana', 'Gibraltar', 'Guinea',\n",
       "       'Guadeloupe', 'The Gambia', 'Guinea-Bissau', 'Equatorial Guinea',\n",
       "       'Greece', 'Grenada', 'Greenland', 'Guatemala', 'French Guiana',\n",
       "       'Guyana', 'Hong Kong', 'Honduras', 'Croatia', 'Haiti', 'Hungary',\n",
       "       'Indonesia', 'India', 'Ireland', 'Iran', 'Iraq', 'Iceland',\n",
       "       'Israel and Palestine, State of',\n",
       "       'Italy, San Marino and the Holy See', 'Jamaica', 'Jordan', 'Japan',\n",
       "       'Kazakhstan', 'Kenya', 'Kyrgyzstan', 'Cambodia', 'Kiribati',\n",
       "       'Saint Kitts and Nevis', 'South Korea', 'Kuwait', 'Laos',\n",
       "       'Lebanon', 'Liberia', 'Libya', 'Saint Lucia', 'Sri Lanka',\n",
       "       'Lesotho', 'Lithuania', 'Luxembourg', 'Latvia', 'Macao', 'Morocco',\n",
       "       'Moldova', 'Madagascar', 'Maldives', 'Mexico', 'North Macedonia',\n",
       "       'Mali', 'Malta', 'Myanmar/Burma', 'Mongolia', 'Mozambique',\n",
       "       'Mauritania', 'Martinique', 'Mauritius', 'Malawi', 'Malaysia',\n",
       "       'Namibia', 'New Caledonia', 'Niger', 'Nigeria', 'Nicaragua',\n",
       "       'Netherlands', 'Norway', 'Nepal', 'New Zealand', 'Oman',\n",
       "       'Pakistan', 'Panama', 'Peru', 'Philippines', 'Palau',\n",
       "       'Papua New Guinea', 'Poland', 'Puerto Rico', 'North Korea',\n",
       "       'Portugal', 'Paraguay', 'French Polynesia', 'Qatar', 'Reunion',\n",
       "       'Romania', 'Russia', 'Rwanda', 'Saudi Arabia',\n",
       "       'Serbia and Montenegro', 'Sudan and South Sudan',\n",
       "       'International Shipping', 'Senegal', 'Singapore',\n",
       "       'Saint Helena, Ascension and Tristan da Cunha', 'Solomon Islands',\n",
       "       'Sierra Leone', 'El Salvador', 'Somalia',\n",
       "       'Saint Pierre and Miquelon', 'Sao Tome and Principe', 'Suriname',\n",
       "       'Slovakia', 'Slovenia', 'Sweden', 'Eswatini', 'Seychelles',\n",
       "       'Syria', 'Turks and Caicos Islands', 'Chad', 'Togo', 'Thailand',\n",
       "       'Tajikistan', 'Turkmenistan', 'Timor-Leste', 'Tonga',\n",
       "       'Trinidad and Tobago', 'Tunisia', 'Turkey', 'Taiwan', 'Tanzania',\n",
       "       'Uganda', 'Ukraine', 'Uruguay', 'United States', 'Uzbekistan',\n",
       "       'Saint Vincent and the Grenadines', 'Venezuela',\n",
       "       'British Virgin Islands', 'Vietnam', 'Vanuatu', 'Samoa', 'Yemen',\n",
       "       'South Africa', 'Zambia', 'Zimbabwe'], dtype=object)"
      ]
     },
     "execution_count": 17,
     "metadata": {},
     "output_type": "execute_result"
    }
   ],
   "source": [
    "df.Country.unique()"
   ]
  },
  {
   "cell_type": "code",
   "execution_count": 21,
   "id": "b965dbac-65a8-4ce4-891e-94d2dc7ec64f",
   "metadata": {},
   "outputs": [],
   "source": [
    "#changing the shape of the dataframe.\n",
    "df_melted = df.melt(id_vars=[\"Country\"], var_name=\"Year\", value_name=\"CO2_Emissions\")"
   ]
  },
  {
   "cell_type": "code",
   "execution_count": 23,
   "id": "5de4b1f7-d233-45a4-a8df-9ebeab89aa83",
   "metadata": {},
   "outputs": [
    {
     "data": {
      "text/html": [
       "<div>\n",
       "<style scoped>\n",
       "    .dataframe tbody tr th:only-of-type {\n",
       "        vertical-align: middle;\n",
       "    }\n",
       "\n",
       "    .dataframe tbody tr th {\n",
       "        vertical-align: top;\n",
       "    }\n",
       "\n",
       "    .dataframe thead th {\n",
       "        text-align: right;\n",
       "    }\n",
       "</style>\n",
       "<table border=\"1\" class=\"dataframe\">\n",
       "  <thead>\n",
       "    <tr style=\"text-align: right;\">\n",
       "      <th></th>\n",
       "      <th>Country</th>\n",
       "      <th>Year</th>\n",
       "      <th>CO2_Emissions</th>\n",
       "    </tr>\n",
       "  </thead>\n",
       "  <tbody>\n",
       "    <tr>\n",
       "      <th>0</th>\n",
       "      <td>Aruba</td>\n",
       "      <td>1970</td>\n",
       "      <td>0.081876</td>\n",
       "    </tr>\n",
       "    <tr>\n",
       "      <th>1</th>\n",
       "      <td>Afghanistan</td>\n",
       "      <td>1970</td>\n",
       "      <td>1.739541</td>\n",
       "    </tr>\n",
       "    <tr>\n",
       "      <th>2</th>\n",
       "      <td>Angola</td>\n",
       "      <td>1970</td>\n",
       "      <td>8.952570</td>\n",
       "    </tr>\n",
       "    <tr>\n",
       "      <th>3</th>\n",
       "      <td>Anguilla</td>\n",
       "      <td>1970</td>\n",
       "      <td>0.002168</td>\n",
       "    </tr>\n",
       "    <tr>\n",
       "      <th>4</th>\n",
       "      <td>International Aviation</td>\n",
       "      <td>1970</td>\n",
       "      <td>169.300997</td>\n",
       "    </tr>\n",
       "  </tbody>\n",
       "</table>\n",
       "</div>"
      ],
      "text/plain": [
       "                  Country  Year  CO2_Emissions\n",
       "0                   Aruba  1970       0.081876\n",
       "1             Afghanistan  1970       1.739541\n",
       "2                  Angola  1970       8.952570\n",
       "3                Anguilla  1970       0.002168\n",
       "4  International Aviation  1970     169.300997"
      ]
     },
     "execution_count": 23,
     "metadata": {},
     "output_type": "execute_result"
    }
   ],
   "source": [
    "df_melted.head()"
   ]
  },
  {
   "cell_type": "code",
   "execution_count": 25,
   "id": "61eae11e-72fc-4415-9bfb-e9aa5dc5299a",
   "metadata": {},
   "outputs": [
    {
     "data": {
      "text/plain": [
       "Country          0\n",
       "Year             0\n",
       "CO2_Emissions    0\n",
       "dtype: int64"
      ]
     },
     "execution_count": 25,
     "metadata": {},
     "output_type": "execute_result"
    }
   ],
   "source": [
    "df_melted.isnull().sum()"
   ]
  },
  {
   "cell_type": "code",
   "execution_count": 27,
   "id": "e81633ba-96b7-459a-80f9-0429a8746236",
   "metadata": {},
   "outputs": [
    {
     "data": {
      "text/plain": [
       "(10920, 3)"
      ]
     },
     "execution_count": 27,
     "metadata": {},
     "output_type": "execute_result"
    }
   ],
   "source": [
    "df_melted.shape"
   ]
  },
  {
   "cell_type": "code",
   "execution_count": 29,
   "id": "3346fac6-00e5-44f4-a523-407ac79618fd",
   "metadata": {},
   "outputs": [
    {
     "name": "stdout",
     "output_type": "stream",
     "text": [
      "<class 'pandas.core.frame.DataFrame'>\n",
      "RangeIndex: 10920 entries, 0 to 10919\n",
      "Data columns (total 3 columns):\n",
      " #   Column         Non-Null Count  Dtype  \n",
      "---  ------         --------------  -----  \n",
      " 0   Country        10920 non-null  object \n",
      " 1   Year           10920 non-null  object \n",
      " 2   CO2_Emissions  10920 non-null  float64\n",
      "dtypes: float64(1), object(2)\n",
      "memory usage: 256.1+ KB\n"
     ]
    }
   ],
   "source": [
    "df_melted.info()"
   ]
  },
  {
   "cell_type": "code",
   "execution_count": 31,
   "id": "fb692d36-427b-458a-9793-459a0b85d016",
   "metadata": {},
   "outputs": [],
   "source": [
    "df_melted[\"Year\"] = df_melted[\"Year\"].astype(int)"
   ]
  },
  {
   "cell_type": "code",
   "execution_count": 33,
   "id": "8ac4c6f7-e49b-4f48-a9ee-70e3251d3077",
   "metadata": {},
   "outputs": [
    {
     "name": "stderr",
     "output_type": "stream",
     "text": [
      "/var/folders/kh/bjfqwck131971mz369pxctvm0000gn/T/ipykernel_46880/4183757337.py:7: FutureWarning: The default of observed=False is deprecated and will be changed to True in a future version of pandas. Pass observed=False to retain current behavior or observed=True to adopt the future default and silence this warning.\n",
      "  co2_per_bin_sum = df_melted.groupby(\"Decade\")[\"CO2_Emissions\"].sum().reset_index()\n"
     ]
    },
    {
     "data": {
      "text/html": [
       "<div>\n",
       "<style scoped>\n",
       "    .dataframe tbody tr th:only-of-type {\n",
       "        vertical-align: middle;\n",
       "    }\n",
       "\n",
       "    .dataframe tbody tr th {\n",
       "        vertical-align: top;\n",
       "    }\n",
       "\n",
       "    .dataframe thead th {\n",
       "        text-align: right;\n",
       "    }\n",
       "</style>\n",
       "<table border=\"1\" class=\"dataframe\">\n",
       "  <thead>\n",
       "    <tr style=\"text-align: right;\">\n",
       "      <th></th>\n",
       "      <th>Decade</th>\n",
       "      <th>CO2_Emissions</th>\n",
       "    </tr>\n",
       "  </thead>\n",
       "  <tbody>\n",
       "    <tr>\n",
       "      <th>0</th>\n",
       "      <td>1970-1979</td>\n",
       "      <td>180451.499686</td>\n",
       "    </tr>\n",
       "    <tr>\n",
       "      <th>1</th>\n",
       "      <td>1980-1989</td>\n",
       "      <td>206709.954551</td>\n",
       "    </tr>\n",
       "    <tr>\n",
       "      <th>2</th>\n",
       "      <td>1990-1999</td>\n",
       "      <td>236825.392366</td>\n",
       "    </tr>\n",
       "    <tr>\n",
       "      <th>3</th>\n",
       "      <td>2000-2009</td>\n",
       "      <td>293954.557474</td>\n",
       "    </tr>\n",
       "    <tr>\n",
       "      <th>4</th>\n",
       "      <td>2010-2021</td>\n",
       "      <td>399221.879275</td>\n",
       "    </tr>\n",
       "  </tbody>\n",
       "</table>\n",
       "</div>"
      ],
      "text/plain": [
       "      Decade  CO2_Emissions\n",
       "0  1970-1979  180451.499686\n",
       "1  1980-1989  206709.954551\n",
       "2  1990-1999  236825.392366\n",
       "3  2000-2009  293954.557474\n",
       "4  2010-2021  399221.879275"
      ]
     },
     "execution_count": 33,
     "metadata": {},
     "output_type": "execute_result"
    }
   ],
   "source": [
    "# comparing average co2 emission in each decade.\n",
    "bins = [1970, 1980, 1990, 2000, 2010, 2021]\n",
    "labels = [\"1970-1979\", \"1980-1989\", \"1990-1999\", \"2000-2009\", \"2010-2021\"]\n",
    "\n",
    "df_melted[\"Decade\"] = pd.cut(df_melted[\"Year\"], bins=bins, labels=labels, right=False)\n",
    "\n",
    "co2_per_bin_sum = df_melted.groupby(\"Decade\")[\"CO2_Emissions\"].sum().reset_index()\n",
    "\n",
    "co2_per_bin_sum"
   ]
  },
  {
   "cell_type": "code",
   "execution_count": 35,
   "id": "1b742626-2777-404f-87c7-0e6697cb9e47",
   "metadata": {},
   "outputs": [
    {
     "data": {
      "text/html": [
       "<div>\n",
       "<style scoped>\n",
       "    .dataframe tbody tr th:only-of-type {\n",
       "        vertical-align: middle;\n",
       "    }\n",
       "\n",
       "    .dataframe tbody tr th {\n",
       "        vertical-align: top;\n",
       "    }\n",
       "\n",
       "    .dataframe thead th {\n",
       "        text-align: right;\n",
       "    }\n",
       "</style>\n",
       "<table border=\"1\" class=\"dataframe\">\n",
       "  <thead>\n",
       "    <tr style=\"text-align: right;\">\n",
       "      <th></th>\n",
       "      <th>Decade</th>\n",
       "      <th>CO2_Emissions</th>\n",
       "      <th>Percentage_Increase</th>\n",
       "    </tr>\n",
       "  </thead>\n",
       "  <tbody>\n",
       "    <tr>\n",
       "      <th>0</th>\n",
       "      <td>1970-1979</td>\n",
       "      <td>180451.499686</td>\n",
       "      <td>NaN</td>\n",
       "    </tr>\n",
       "    <tr>\n",
       "      <th>1</th>\n",
       "      <td>1980-1989</td>\n",
       "      <td>206709.954551</td>\n",
       "      <td>14.551530</td>\n",
       "    </tr>\n",
       "    <tr>\n",
       "      <th>2</th>\n",
       "      <td>1990-1999</td>\n",
       "      <td>236825.392366</td>\n",
       "      <td>14.568934</td>\n",
       "    </tr>\n",
       "    <tr>\n",
       "      <th>3</th>\n",
       "      <td>2000-2009</td>\n",
       "      <td>293954.557474</td>\n",
       "      <td>24.122905</td>\n",
       "    </tr>\n",
       "    <tr>\n",
       "      <th>4</th>\n",
       "      <td>2010-2021</td>\n",
       "      <td>399221.879275</td>\n",
       "      <td>35.810747</td>\n",
       "    </tr>\n",
       "  </tbody>\n",
       "</table>\n",
       "</div>"
      ],
      "text/plain": [
       "      Decade  CO2_Emissions  Percentage_Increase\n",
       "0  1970-1979  180451.499686                  NaN\n",
       "1  1980-1989  206709.954551            14.551530\n",
       "2  1990-1999  236825.392366            14.568934\n",
       "3  2000-2009  293954.557474            24.122905\n",
       "4  2010-2021  399221.879275            35.810747"
      ]
     },
     "execution_count": 35,
     "metadata": {},
     "output_type": "execute_result"
    }
   ],
   "source": [
    "co2_per_bin_sum[\"Percentage_Increase\"] = co2_per_bin_sum[\"CO2_Emissions\"].pct_change() * 100\n",
    "\n",
    "co2_per_bin_sum"
   ]
  },
  {
   "cell_type": "code",
   "execution_count": 35,
   "id": "a5a475ec-7a1e-436c-b1fb-e0a1983e3e6d",
   "metadata": {},
   "outputs": [],
   "source": [
    "co2_per_bin_sum.to_csv(\"co2_per_bin_sum.csv\", index=False)"
   ]
  },
  {
   "cell_type": "code",
   "execution_count": 37,
   "id": "fe5657db-22b3-4b80-b24d-72c215ff67c0",
   "metadata": {},
   "outputs": [
    {
     "name": "stdout",
     "output_type": "stream",
     "text": [
      "Sum of CO2 emissions for Top 10 economies in 1970: 8750.2670582\n",
      "Sum of CO2 emissions for other countries in 1970: 7370.5798857071495\n"
     ]
    }
   ],
   "source": [
    "# comparing the co2 emission of the top 10 economies in 1970 and all the other countries.\n",
    "top_10_economies = [\n",
    "    \"United States\", \"Australia\", \"Japan\", \"Germany\", \"United Kingdom\",\n",
    "    \"Spain\", \"France and Monaco\", \"Italy, San Marino and the Holy See\", \"Canada\", \"Mexico\"\n",
    "]\n",
    "\n",
    "df_1970 = df_melted[df_melted[\"Year\"] == 1970]\n",
    "\n",
    "\n",
    "top_10_sum = df_1970[df_1970[\"Country\"].isin(top_10_economies)][\"CO2_Emissions\"].sum()\n",
    "other_countries_sum = df_1970[~df_1970[\"Country\"].isin(top_10_economies)][\"CO2_Emissions\"].sum()\n",
    "\n",
    "print(f\"Sum of CO2 emissions for Top 10 economies in 1970: {top_10_sum}\")\n",
    "print(f\"Sum of CO2 emissions for other countries in 1970: {other_countries_sum}\")\n"
   ]
  },
  {
   "cell_type": "code",
   "execution_count": 39,
   "id": "b95bb06b-e9cc-4248-ad8a-991bea645ae3",
   "metadata": {},
   "outputs": [
    {
     "data": {
      "image/png": "[encoded data removed]",
      "text/plain": [
       "<Figure size 800x600 with 1 Axes>"
      ]
     },
     "metadata": {},
     "output_type": "display_data"
    }
   ],
   "source": [
    "labels = [\"Top 10 Economies\", \"Other Countries\"]\n",
    "sizes = [top_10_sum, other_countries_sum]  \n",
    "colors = [\"#ff9999\", \"#66b3ff\"] \n",
    "explode = (0.1, 0) \n",
    "\n",
    "plt.figure(figsize=(8, 6))\n",
    "plt.pie(sizes, labels=labels, autopct='%1.1f%%', startangle=140, colors=colors, explode=explode)\n",
    "plt.title(\"CO2 Emissions Share (1970)\")\n",
    "plt.axis('equal')\n",
    "plt.show()\n"
   ]
  },
  {
   "cell_type": "code",
   "execution_count": 41,
   "id": "805f5265-1ec5-40da-9b47-033153a1863b",
   "metadata": {},
   "outputs": [
    {
     "name": "stdout",
     "output_type": "stream",
     "text": [
      "Sum of CO2 emissions for Top 10 economies in 2021: 23765.4467427\n",
      "Sum of CO2 emissions for other countries in 2021: 14092.129014692495\n"
     ]
    }
   ],
   "source": [
    "# comparing the co2 emission of the top 10 economies in 2021 and all the other countries.\n",
    "top_10_economies = [\n",
    "    \"United States\", \"China\", \"Japan\", \"Germany\", \"United Kingdom\",\n",
    "    \"India\", \"France and Monaco\", \"Italy, San Marino and the Holy See\", \"Canada\", \"South Korea\"\n",
    "]\n",
    "\n",
    "df_2021 = df_melted[df_melted[\"Year\"] == 2021]\n",
    "\n",
    "\n",
    "top_10_sum = df_2021[df_2021[\"Country\"].isin(top_10_economies)][\"CO2_Emissions\"].sum()\n",
    "other_countries_sum = df_2021[~df_2021[\"Country\"].isin(top_10_economies)][\"CO2_Emissions\"].sum()\n",
    "\n",
    "print(f\"Sum of CO2 emissions for Top 10 economies in 2021: {top_10_sum}\")\n",
    "print(f\"Sum of CO2 emissions for other countries in 2021: {other_countries_sum}\")\n"
   ]
  },
  {
   "cell_type": "code",
   "execution_count": 43,
   "id": "2224c62e-e5d8-404e-93ba-5ee7399a13f8",
   "metadata": {},
   "outputs": [
    {
     "data": {
      "image/png": "[encoded data removed]",
      "text/plain": [
       "<Figure size 800x600 with 1 Axes>"
      ]
     },
     "metadata": {},
     "output_type": "display_data"
    }
   ],
   "source": [
    "labels = [\"Top 10 Economies\", \"Other Countries\"]\n",
    "sizes = [top_10_sum, other_countries_sum]  \n",
    "colors = [\"#ff9999\", \"#66b3ff\"] \n",
    "explode = (0.1, 0) \n",
    "\n",
    "plt.figure(figsize=(8, 6))\n",
    "plt.pie(sizes, labels=labels, autopct='%1.1f%%', startangle=140, colors=colors, explode=explode)\n",
    "plt.title(\"CO2 Emissions Share (2021)\")\n",
    "plt.axis('equal')\n",
    "plt.show()\n"
   ]
  },
  {
   "cell_type": "code",
   "execution_count": 45,
   "id": "f242ab83-3699-446e-a5e1-a13c714d759a",
   "metadata": {},
   "outputs": [
    {
     "name": "stdout",
     "output_type": "stream",
     "text": [
      "Total CO2 emissions for United States and China: 17218.3953\n",
      "Total CO2 emissions globally: 37857.57575739249\n",
      "Percentage contribution by United States and China: 45.48%\n"
     ]
    }
   ],
   "source": [
    "# calculating the co2 emission of China and USA in 2021 and compare it to all the other countries.\n",
    "us_china_df = df[df[\"Country\"].isin([\"United States\", \"China\"])]\n",
    "\n",
    "us_china_total = us_china_df[\"2021\"].sum()\n",
    "\n",
    "# Step 3: Calculate the total CO2 emissions for all countries\n",
    "global_total = df[\"2021\"].sum()\n",
    "\n",
    "# Step 4: Compute the percentage\n",
    "percentage = (us_china_total / global_total) * 100\n",
    "\n",
    "# Output\n",
    "print(f\"Total CO2 emissions for United States and China: {us_china_total}\")\n",
    "print(f\"Total CO2 emissions globally: {global_total}\")\n",
    "print(f\"Percentage contribution by United States and China: {percentage:.2f}%\")"
   ]
  },
  {
   "cell_type": "code",
   "execution_count": 47,
   "id": "8a58f7cd-11af-434d-884a-a8e2d6e59b42",
   "metadata": {},
   "outputs": [
    {
     "data": {
      "image/png": "[encoded data removed]",
      "text/plain": [
       "<Figure size 800x600 with 1 Axes>"
      ]
     },
     "metadata": {},
     "output_type": "display_data"
    }
   ],
   "source": [
    "labels = [\"United States and China\", \"Rest of the World\"]\n",
    "us_china_emissions = us_china_total\n",
    "rest_of_world_emissions = global_total - us_china_total\n",
    "sizes = [us_china_emissions, rest_of_world_emissions] \n",
    "colors = [\"#ff9999\", \"#66b3ff\"] \n",
    "\n",
    "\n",
    "plt.figure(figsize=(8, 6))\n",
    "plt.pie(sizes, labels=labels, autopct='%1.1f%%', startangle=140, colors=colors, explode=(0.1, 0))\n",
    "plt.title(\"CO2 Emissions Share: United States and China vs Rest of the World\")\n",
    "plt.axis('equal')  \n",
    "plt.show()"
   ]
  },
  {
   "cell_type": "code",
   "execution_count": 49,
   "id": "ff157285-a0bc-43a2-9e6d-9d1bd023b360",
   "metadata": {},
   "outputs": [
    {
     "name": "stderr",
     "output_type": "stream",
     "text": [
      "/var/folders/kh/bjfqwck131971mz369pxctvm0000gn/T/ipykernel_31796/886110960.py:13: FutureWarning: The default of observed=False is deprecated and will be changed to True in a future version of pandas. Pass observed=False to retain current behavior or observed=True to adopt the future default and silence this warning.\n",
      "  usa_decade = df_usa.groupby(\"Decade\")[\"CO2_Emissions\"].sum().reset_index()\n"
     ]
    },
    {
     "data": {
      "text/html": [
       "<div>\n",
       "<style scoped>\n",
       "    .dataframe tbody tr th:only-of-type {\n",
       "        vertical-align: middle;\n",
       "    }\n",
       "\n",
       "    .dataframe tbody tr th {\n",
       "        vertical-align: top;\n",
       "    }\n",
       "\n",
       "    .dataframe thead th {\n",
       "        text-align: right;\n",
       "    }\n",
       "</style>\n",
       "<table border=\"1\" class=\"dataframe\">\n",
       "  <thead>\n",
       "    <tr style=\"text-align: right;\">\n",
       "      <th></th>\n",
       "      <th>Decade</th>\n",
       "      <th>CO2_Emissions</th>\n",
       "      <th>Percentage_Increase</th>\n",
       "    </tr>\n",
       "  </thead>\n",
       "  <tbody>\n",
       "    <tr>\n",
       "      <th>0</th>\n",
       "      <td>1970-1979</td>\n",
       "      <td>48645.017768</td>\n",
       "      <td>NaN</td>\n",
       "    </tr>\n",
       "    <tr>\n",
       "      <th>1</th>\n",
       "      <td>1980-1989</td>\n",
       "      <td>48250.295949</td>\n",
       "      <td>-0.811433</td>\n",
       "    </tr>\n",
       "    <tr>\n",
       "      <th>2</th>\n",
       "      <td>1990-1999</td>\n",
       "      <td>54058.102241</td>\n",
       "      <td>12.036830</td>\n",
       "    </tr>\n",
       "    <tr>\n",
       "      <th>3</th>\n",
       "      <td>2000-2009</td>\n",
       "      <td>58352.628717</td>\n",
       "      <td>7.944279</td>\n",
       "    </tr>\n",
       "    <tr>\n",
       "      <th>4</th>\n",
       "      <td>2010-2021</td>\n",
       "      <td>56527.364353</td>\n",
       "      <td>-3.127990</td>\n",
       "    </tr>\n",
       "  </tbody>\n",
       "</table>\n",
       "</div>"
      ],
      "text/plain": [
       "      Decade  CO2_Emissions  Percentage_Increase\n",
       "0  1970-1979   48645.017768                  NaN\n",
       "1  1980-1989   48250.295949            -0.811433\n",
       "2  1990-1999   54058.102241            12.036830\n",
       "3  2000-2009   58352.628717             7.944279\n",
       "4  2010-2021   56527.364353            -3.127990"
      ]
     },
     "execution_count": 49,
     "metadata": {},
     "output_type": "execute_result"
    }
   ],
   "source": [
    "# Comparing co2 emission for usa in each decade.\n",
    "df_usa = df_melted[\n",
    "    (df_melted[\"Country\"] == \"United States\")\n",
    "]\n",
    "\n",
    "bins = [1970, 1980, 1990, 2000, 2010, 2021]\n",
    "labels = [\"1970-1979\", \"1980-1989\", \"1990-1999\", \"2000-2009\", \"2010-2021\"]\n",
    "\n",
    "df_usa = df_usa.assign(\n",
    "    Decade=pd.cut(df_usa[\"Year\"], bins=bins, labels=labels, right=False)\n",
    ")\n",
    "\n",
    "usa_decade = df_usa.groupby(\"Decade\")[\"CO2_Emissions\"].sum().reset_index()\n",
    "usa_decade[\"Percentage_Increase\"] = usa_decade[\"CO2_Emissions\"].pct_change() * 100\n",
    "\n",
    "usa_decade\n"
   ]
  },
  {
   "cell_type": "code",
   "execution_count": 51,
   "id": "76a11d7a-c314-4884-a042-64dcbfed5db7",
   "metadata": {},
   "outputs": [],
   "source": [
    "usa_decade.to_csv(\"usa_decades.csv\", index=False)"
   ]
  },
  {
   "cell_type": "code",
   "execution_count": 53,
   "id": "903b3121-4921-4bda-aafc-2c6a026a494e",
   "metadata": {
    "scrolled": true
   },
   "outputs": [
    {
     "name": "stderr",
     "output_type": "stream",
     "text": [
      "/var/folders/kh/bjfqwck131971mz369pxctvm0000gn/T/ipykernel_31796/3789746281.py:13: FutureWarning: The default of observed=False is deprecated and will be changed to True in a future version of pandas. Pass observed=False to retain current behavior or observed=True to adopt the future default and silence this warning.\n",
      "  china_decade = df_china.groupby(\"Decade\")[\"CO2_Emissions\"].sum().reset_index()\n"
     ]
    },
    {
     "data": {
      "text/html": [
       "<div>\n",
       "<style scoped>\n",
       "    .dataframe tbody tr th:only-of-type {\n",
       "        vertical-align: middle;\n",
       "    }\n",
       "\n",
       "    .dataframe tbody tr th {\n",
       "        vertical-align: top;\n",
       "    }\n",
       "\n",
       "    .dataframe thead th {\n",
       "        text-align: right;\n",
       "    }\n",
       "</style>\n",
       "<table border=\"1\" class=\"dataframe\">\n",
       "  <thead>\n",
       "    <tr style=\"text-align: right;\">\n",
       "      <th></th>\n",
       "      <th>Decade</th>\n",
       "      <th>CO2_Emissions</th>\n",
       "      <th>Percentage_Increase</th>\n",
       "    </tr>\n",
       "  </thead>\n",
       "  <tbody>\n",
       "    <tr>\n",
       "      <th>0</th>\n",
       "      <td>1970-1979</td>\n",
       "      <td>11812.750752</td>\n",
       "      <td>NaN</td>\n",
       "    </tr>\n",
       "    <tr>\n",
       "      <th>1</th>\n",
       "      <td>1980-1989</td>\n",
       "      <td>19037.995184</td>\n",
       "      <td>61.164792</td>\n",
       "    </tr>\n",
       "    <tr>\n",
       "      <th>2</th>\n",
       "      <td>1990-1999</td>\n",
       "      <td>30997.971607</td>\n",
       "      <td>62.821617</td>\n",
       "    </tr>\n",
       "    <tr>\n",
       "      <th>3</th>\n",
       "      <td>2000-2009</td>\n",
       "      <td>59649.368652</td>\n",
       "      <td>92.429909</td>\n",
       "    </tr>\n",
       "    <tr>\n",
       "      <th>4</th>\n",
       "      <td>2010-2021</td>\n",
       "      <td>119434.742076</td>\n",
       "      <td>100.228007</td>\n",
       "    </tr>\n",
       "  </tbody>\n",
       "</table>\n",
       "</div>"
      ],
      "text/plain": [
       "      Decade  CO2_Emissions  Percentage_Increase\n",
       "0  1970-1979   11812.750752                  NaN\n",
       "1  1980-1989   19037.995184            61.164792\n",
       "2  1990-1999   30997.971607            62.821617\n",
       "3  2000-2009   59649.368652            92.429909\n",
       "4  2010-2021  119434.742076           100.228007"
      ]
     },
     "execution_count": 53,
     "metadata": {},
     "output_type": "execute_result"
    }
   ],
   "source": [
    "# Comparing co2 emission for china in each decade.\n",
    "df_china = df_melted[\n",
    "    (df_melted[\"Country\"] == \"China\")\n",
    "]\n",
    "\n",
    "bins = [1970, 1980, 1990, 2000, 2010, 2021]\n",
    "labels = [\"1970-1979\", \"1980-1989\", \"1990-1999\", \"2000-2009\", \"2010-2021\"]\n",
    "\n",
    "df_china = df_china.assign(\n",
    "    Decade=pd.cut(df_china[\"Year\"], bins=bins, labels=labels, right=False)\n",
    ")\n",
    "\n",
    "china_decade = df_china.groupby(\"Decade\")[\"CO2_Emissions\"].sum().reset_index()\n",
    "china_decade[\"Percentage_Increase\"] = china_decade[\"CO2_Emissions\"].pct_change() * 100\n",
    "\n",
    "china_decade"
   ]
  },
  {
   "cell_type": "code",
   "execution_count": 55,
   "id": "673def48-e51d-48d0-8d71-b70128d95aee",
   "metadata": {},
   "outputs": [],
   "source": [
    "china_decade.to_csv(\"china_decades.csv\", index=False)"
   ]
  },
  {
   "cell_type": "code",
   "execution_count": 57,
   "id": "3d323af2-a5e5-441d-ade8-900a25134b61",
   "metadata": {},
   "outputs": [
    {
     "data": {
      "text/html": [
       "<div>\n",
       "<style scoped>\n",
       "    .dataframe tbody tr th:only-of-type {\n",
       "        vertical-align: middle;\n",
       "    }\n",
       "\n",
       "    .dataframe tbody tr th {\n",
       "        vertical-align: top;\n",
       "    }\n",
       "\n",
       "    .dataframe thead th {\n",
       "        text-align: right;\n",
       "    }\n",
       "</style>\n",
       "<table border=\"1\" class=\"dataframe\">\n",
       "  <thead>\n",
       "    <tr style=\"text-align: right;\">\n",
       "      <th></th>\n",
       "      <th>Country</th>\n",
       "      <th>1970</th>\n",
       "      <th>1971</th>\n",
       "      <th>1972</th>\n",
       "      <th>1973</th>\n",
       "      <th>1974</th>\n",
       "      <th>1975</th>\n",
       "      <th>1976</th>\n",
       "      <th>1977</th>\n",
       "      <th>1978</th>\n",
       "      <th>...</th>\n",
       "      <th>2012</th>\n",
       "      <th>2013</th>\n",
       "      <th>2014</th>\n",
       "      <th>2015</th>\n",
       "      <th>2016</th>\n",
       "      <th>2017</th>\n",
       "      <th>2018</th>\n",
       "      <th>2019</th>\n",
       "      <th>2020</th>\n",
       "      <th>2021</th>\n",
       "    </tr>\n",
       "  </thead>\n",
       "  <tbody>\n",
       "    <tr>\n",
       "      <th>0</th>\n",
       "      <td>Aruba</td>\n",
       "      <td>0.081876</td>\n",
       "      <td>0.081889</td>\n",
       "      <td>0.095415</td>\n",
       "      <td>0.099630</td>\n",
       "      <td>0.089089</td>\n",
       "      <td>0.105139</td>\n",
       "      <td>0.096041</td>\n",
       "      <td>0.105305</td>\n",
       "      <td>0.106662</td>\n",
       "      <td>...</td>\n",
       "      <td>1.618441</td>\n",
       "      <td>1.588689</td>\n",
       "      <td>1.615728</td>\n",
       "      <td>1.607879</td>\n",
       "      <td>1.578644</td>\n",
       "      <td>1.315458</td>\n",
       "      <td>1.347594</td>\n",
       "      <td>1.387156</td>\n",
       "      <td>1.144333</td>\n",
       "      <td>1.274134</td>\n",
       "    </tr>\n",
       "    <tr>\n",
       "      <th>1</th>\n",
       "      <td>Afghanistan</td>\n",
       "      <td>1.739541</td>\n",
       "      <td>1.737823</td>\n",
       "      <td>1.715749</td>\n",
       "      <td>1.742813</td>\n",
       "      <td>2.198551</td>\n",
       "      <td>2.037627</td>\n",
       "      <td>1.899895</td>\n",
       "      <td>2.288853</td>\n",
       "      <td>1.940763</td>\n",
       "      <td>...</td>\n",
       "      <td>10.238064</td>\n",
       "      <td>8.484183</td>\n",
       "      <td>8.016290</td>\n",
       "      <td>8.361849</td>\n",
       "      <td>7.635914</td>\n",
       "      <td>8.145255</td>\n",
       "      <td>9.106997</td>\n",
       "      <td>8.082724</td>\n",
       "      <td>8.183718</td>\n",
       "      <td>8.347669</td>\n",
       "    </tr>\n",
       "    <tr>\n",
       "      <th>2</th>\n",
       "      <td>Angola</td>\n",
       "      <td>8.952570</td>\n",
       "      <td>8.538308</td>\n",
       "      <td>10.388519</td>\n",
       "      <td>11.372301</td>\n",
       "      <td>11.833761</td>\n",
       "      <td>10.930423</td>\n",
       "      <td>7.317385</td>\n",
       "      <td>12.057774</td>\n",
       "      <td>14.239234</td>\n",
       "      <td>...</td>\n",
       "      <td>24.186843</td>\n",
       "      <td>27.822325</td>\n",
       "      <td>30.407844</td>\n",
       "      <td>32.594130</td>\n",
       "      <td>30.691660</td>\n",
       "      <td>26.129882</td>\n",
       "      <td>24.048619</td>\n",
       "      <td>25.325994</td>\n",
       "      <td>23.055844</td>\n",
       "      <td>24.450057</td>\n",
       "    </tr>\n",
       "    <tr>\n",
       "      <th>3</th>\n",
       "      <td>Anguilla</td>\n",
       "      <td>0.002168</td>\n",
       "      <td>0.002168</td>\n",
       "      <td>0.002264</td>\n",
       "      <td>0.002109</td>\n",
       "      <td>0.002350</td>\n",
       "      <td>0.002584</td>\n",
       "      <td>0.002434</td>\n",
       "      <td>0.002537</td>\n",
       "      <td>0.002902</td>\n",
       "      <td>...</td>\n",
       "      <td>0.026023</td>\n",
       "      <td>0.027941</td>\n",
       "      <td>0.027896</td>\n",
       "      <td>0.028005</td>\n",
       "      <td>0.028340</td>\n",
       "      <td>0.029062</td>\n",
       "      <td>0.028223</td>\n",
       "      <td>0.027580</td>\n",
       "      <td>0.022779</td>\n",
       "      <td>0.025409</td>\n",
       "    </tr>\n",
       "    <tr>\n",
       "      <th>4</th>\n",
       "      <td>International Aviation</td>\n",
       "      <td>169.300997</td>\n",
       "      <td>169.300997</td>\n",
       "      <td>179.147487</td>\n",
       "      <td>186.892096</td>\n",
       "      <td>179.793331</td>\n",
       "      <td>173.866020</td>\n",
       "      <td>174.273791</td>\n",
       "      <td>190.068978</td>\n",
       "      <td>197.222628</td>\n",
       "      <td>...</td>\n",
       "      <td>472.721119</td>\n",
       "      <td>480.909126</td>\n",
       "      <td>496.627697</td>\n",
       "      <td>524.654034</td>\n",
       "      <td>548.207777</td>\n",
       "      <td>582.230490</td>\n",
       "      <td>609.630469</td>\n",
       "      <td>617.763229</td>\n",
       "      <td>338.144083</td>\n",
       "      <td>390.166250</td>\n",
       "    </tr>\n",
       "  </tbody>\n",
       "</table>\n",
       "<p>5 rows × 53 columns</p>\n",
       "</div>"
      ],
      "text/plain": [
       "                  Country        1970        1971        1972        1973  \\\n",
       "0                   Aruba    0.081876    0.081889    0.095415    0.099630   \n",
       "1             Afghanistan    1.739541    1.737823    1.715749    1.742813   \n",
       "2                  Angola    8.952570    8.538308   10.388519   11.372301   \n",
       "3                Anguilla    0.002168    0.002168    0.002264    0.002109   \n",
       "4  International Aviation  169.300997  169.300997  179.147487  186.892096   \n",
       "\n",
       "         1974        1975        1976        1977        1978  ...  \\\n",
       "0    0.089089    0.105139    0.096041    0.105305    0.106662  ...   \n",
       "1    2.198551    2.037627    1.899895    2.288853    1.940763  ...   \n",
       "2   11.833761   10.930423    7.317385   12.057774   14.239234  ...   \n",
       "3    0.002350    0.002584    0.002434    0.002537    0.002902  ...   \n",
       "4  179.793331  173.866020  174.273791  190.068978  197.222628  ...   \n",
       "\n",
       "         2012        2013        2014        2015        2016        2017  \\\n",
       "0    1.618441    1.588689    1.615728    1.607879    1.578644    1.315458   \n",
       "1   10.238064    8.484183    8.016290    8.361849    7.635914    8.145255   \n",
       "2   24.186843   27.822325   30.407844   32.594130   30.691660   26.129882   \n",
       "3    0.026023    0.027941    0.027896    0.028005    0.028340    0.029062   \n",
       "4  472.721119  480.909126  496.627697  524.654034  548.207777  582.230490   \n",
       "\n",
       "         2018        2019        2020        2021  \n",
       "0    1.347594    1.387156    1.144333    1.274134  \n",
       "1    9.106997    8.082724    8.183718    8.347669  \n",
       "2   24.048619   25.325994   23.055844   24.450057  \n",
       "3    0.028223    0.027580    0.022779    0.025409  \n",
       "4  609.630469  617.763229  338.144083  390.166250  \n",
       "\n",
       "[5 rows x 53 columns]"
      ]
     },
     "execution_count": 57,
     "metadata": {},
     "output_type": "execute_result"
    }
   ],
   "source": [
    "df.head()"
   ]
  },
  {
   "cell_type": "code",
   "execution_count": 72,
   "id": "d6b0ea99-ed11-425b-ae49-d566e3102591",
   "metadata": {},
   "outputs": [
    {
     "data": {
      "text/plain": [
       "20316.971200399996"
      ]
     },
     "execution_count": 72,
     "metadata": {},
     "output_type": "execute_result"
    }
   ],
   "source": [
    "top_10_economies = [\n",
    "    \"United States\", \"China\", \"Japan\", \"Germany\", \"United Kingdom\",\n",
    "    \"India\", \"France\", \"Italy\", \"Canada\", \"South Korea\"\n",
    "]\n",
    "sum_2010 = df[df[\"Country\"].isin(top_10_economies)][\"2010\"].sum()\n",
    "sum_2010"
   ]
  },
  {
   "cell_type": "code",
   "execution_count": 74,
   "id": "02b71c79-a4d4-43ec-8488-eb98a6a73551",
   "metadata": {},
   "outputs": [
    {
     "data": {
      "text/plain": [
       "23143.4506566"
      ]
     },
     "execution_count": 74,
     "metadata": {},
     "output_type": "execute_result"
    }
   ],
   "source": [
    "sum_2021 = df[df[\"Country\"].isin(top_10_economies)][\"2021\"].sum()\n",
    "sum_2021"
   ]
  },
  {
   "cell_type": "code",
   "execution_count": 76,
   "id": "1ae13eae-6325-4d80-8b52-1d1191a148b5",
   "metadata": {},
   "outputs": [
    {
     "name": "stdout",
     "output_type": "stream",
     "text": [
      "T-statistic: -0.8109184850116352\n",
      "P-value: 0.44410517023682206\n",
      "The change is not statistically significant.\n"
     ]
    }
   ],
   "source": [
    "from scipy.stats import ttest_rel\n",
    "\n",
    "# Null Hypothesis (H0): There is no significant difference between the sums for 2010 and 2021.\n",
    "# Alternative Hypothesis (Ha​): There is a significant difference between the sums for 2010 and 2021.\n",
    "\n",
    "data_2010 = df[df[\"Country\"].isin(top_10_economies)][\"2010\"]\n",
    "data_2021 = df[df[\"Country\"].isin(top_10_economies)][\"2021\"]\n",
    "\n",
    "# Apply paired t-test\n",
    "t_stat, p_value = ttest_rel(data_2010, data_2021)\n",
    "\n",
    "print(f\"T-statistic: {t_stat}\")\n",
    "print(f\"P-value: {p_value}\")\n",
    "\n",
    "# Interpretation\n",
    "if p_value < 0.05:\n",
    "    print(\"The change is statistically significant.\")\n",
    "else:\n",
    "    print(\"The change is not statistically significant.\")\n"
   ]
  },
  {
   "cell_type": "code",
   "execution_count": 86,
   "id": "616e86df-2f39-477d-ad03-b1d62b898108",
   "metadata": {},
   "outputs": [
    {
     "name": "stdout",
     "output_type": "stream",
     "text": [
      "The total co2 emission of top 10 most environmentally friendly countries in 2010 is  1647.9801168099998\n",
      "The total co2 emission of top 10 most environmentally friendly countries in 2021 is  1238.1301258980002\n"
     ]
    }
   ],
   "source": [
    "# checking the possible decrease in co2 emission for top 10 most environmentally friendly countries between 2010 and 2021\n",
    "# source: https://worldpopulationreview.com/country-rankings/most-environmentally-friendly-countries\n",
    "top_10_green = [\"Estonia\", \"Luxembourg\", \"Germany\", \"Finland\", \"United Kingdom\", \n",
    "                \"Sweden\", \"Norway\", \"Austria\", \"Switzerland\", \"Denmark\"\n",
    "               ]\n",
    "sum_2010_green = df[df[\"Country\"].isin(top_10_green)][\"2010\"].sum()\n",
    "sum_2021_green = df[df[\"Country\"].isin(top_10_green)][\"2021\"].sum()\n",
    "\n",
    "print(\"The total co2 emission of top 10 most environmentally friendly countries in 2010 is \", sum_2010_green)\n",
    "print(\"The total co2 emission of top 10 most environmentally friendly countries in 2021 is \",sum_2021_green)"
   ]
  },
  {
   "cell_type": "code",
   "execution_count": 92,
   "id": "c1eefca2-0643-44a3-a2ff-e2d7bc4dc030",
   "metadata": {},
   "outputs": [
    {
     "name": "stdout",
     "output_type": "stream",
     "text": [
      "T-statistic: 2.0971008935432187\n",
      "P-value: 0.06924909609138197\n",
      "The change in CO2 emissions is statistically significant.\n"
     ]
    }
   ],
   "source": [
    "#Hypothesis test\n",
    "#Null Hypothesis (H0​): There is no significant difference in the CO2 emissions of the top 10 green countries between 2010 and 2021\n",
    "#Alternative Hypothesis (Ha​): There is a significant difference in the CO2 emissions\n",
    "\n",
    "data_2010_green = df[df[\"Country\"].isin(top_10_green)][\"2010\"]\n",
    "data_2021_green = df[df[\"Country\"].isin(top_10_green)][\"2021\"]\n",
    "\n",
    "t_stat, p_value = ttest_rel(data_2010_green, data_2021_green)\n",
    "\n",
    "print(f\"T-statistic: {t_stat}\")\n",
    "print(f\"P-value: {p_value}\")\n",
    "\n",
    "\n",
    "if p_value < 0.1:\n",
    "    print(\"The change in CO2 emissions is statistically significant.\")\n",
    "else:\n",
    "    print(\"The change in CO2 emissions is not statistically significant.\")"
   ]
  },
  {
   "cell_type": "code",
   "execution_count": 94,
   "id": "0821b567-ef95-4955-9a13-16bf44335afe",
   "metadata": {},
   "outputs": [
    {
     "data": {
      "text/html": [
       "<div>\n",
       "<style scoped>\n",
       "    .dataframe tbody tr th:only-of-type {\n",
       "        vertical-align: middle;\n",
       "    }\n",
       "\n",
       "    .dataframe tbody tr th {\n",
       "        vertical-align: top;\n",
       "    }\n",
       "\n",
       "    .dataframe thead th {\n",
       "        text-align: right;\n",
       "    }\n",
       "</style>\n",
       "<table border=\"1\" class=\"dataframe\">\n",
       "  <thead>\n",
       "    <tr style=\"text-align: right;\">\n",
       "      <th></th>\n",
       "      <th>Year</th>\n",
       "      <th>Total_CO2_Emissions</th>\n",
       "    </tr>\n",
       "  </thead>\n",
       "  <tbody>\n",
       "    <tr>\n",
       "      <th>0</th>\n",
       "      <td>2010</td>\n",
       "      <td>1647.980117</td>\n",
       "    </tr>\n",
       "    <tr>\n",
       "      <th>1</th>\n",
       "      <td>2021</td>\n",
       "      <td>1238.130126</td>\n",
       "    </tr>\n",
       "  </tbody>\n",
       "</table>\n",
       "</div>"
      ],
      "text/plain": [
       "   Year  Total_CO2_Emissions\n",
       "0  2010          1647.980117\n",
       "1  2021          1238.130126"
      ]
     },
     "execution_count": 94,
     "metadata": {},
     "output_type": "execute_result"
    }
   ],
   "source": [
    "sum_2010_green = df[df[\"Country\"].isin(top_10_green)][\"2010\"].sum()\n",
    "sum_2021_green = df[df[\"Country\"].isin(top_10_green)][\"2021\"].sum()\n",
    "\n",
    "df_summary = pd.DataFrame({\n",
    "    \"Year\": [2010, 2021],\n",
    "    \"Total_CO2_Emissions\": [sum_2010_green, sum_2021_green]\n",
    "})\n",
    "\n",
    "df_summary"
   ]
  },
  {
   "cell_type": "code",
   "execution_count": 96,
   "id": "61fce17f-6e03-4deb-910b-1de62dbe5e46",
   "metadata": {},
   "outputs": [],
   "source": [
    "df_summary.to_csv(\"green_countries_2010_2021_comparison.csv\", index=False)"
   ]
  },
  {
   "cell_type": "code",
   "execution_count": null,
   "id": "f06d706e-cf72-461c-b9d4-eb6ccaf546c0",
   "metadata": {},
   "outputs": [],
   "source": []
  }
 ],
 "metadata": {
  "kernelspec": {
   "display_name": "Python 3 (ipykernel)",
   "language": "python",
   "name": "python3"
  },
  "language_info": {
   "codemirror_mode": {
    "name": "ipython",
    "version": 3
   },
   "file_extension": ".py",
   "mimetype": "text/x-python",
   "name": "python",
   "nbconvert_exporter": "python",
   "pygments_lexer": "ipython3",
   "version": "3.12.2"
  }
 },
 "nbformat": 4,
 "nbformat_minor": 5
}
